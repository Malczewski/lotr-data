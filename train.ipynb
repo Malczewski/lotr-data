{
 "cells": [
  {
   "cell_type": "code",
   "execution_count": 33,
   "metadata": {},
   "outputs": [],
   "source": [
    "def read_lines(path):\n",
    "\twith open(path, 'r') as file:\n",
    "\t\treturn file.readlines()\n",
    "\n",
    "sentences = read_lines('temp/sentences.txt')\n",
    "characters_fullnames = read_lines('temp/characters.txt')\t\n",
    "\n",
    "characters = []\n",
    "for name in characters_fullnames:\n",
    "\twords = name.strip().split() \n",
    "\tcharacters.extend(words) \n",
    "\n",
    "characters = set(characters)\n",
    "characters = list(characters)\n",
    "characters = [item for item in characters if item not in ['I', 'II', 'III', 'IV', 'V', 'VI']]\n",
    "characters = characters[0:128]"
   ]
  },
  {
   "cell_type": "code",
   "execution_count": 34,
   "metadata": {},
   "outputs": [
    {
     "name": "stderr",
     "output_type": "stream",
     "text": [
      "Some weights of the model checkpoint at bert-base-uncased were not used when initializing BertForTokenClassification: ['cls.predictions.transform.dense.bias', 'cls.seq_relationship.weight', 'cls.predictions.bias', 'cls.predictions.transform.dense.weight', 'cls.predictions.transform.LayerNorm.bias', 'cls.predictions.decoder.weight', 'cls.predictions.transform.LayerNorm.weight', 'cls.seq_relationship.bias']\n",
      "- This IS expected if you are initializing BertForTokenClassification from the checkpoint of a model trained on another task or with another architecture (e.g. initializing a BertForSequenceClassification model from a BertForPreTraining model).\n",
      "- This IS NOT expected if you are initializing BertForTokenClassification from the checkpoint of a model that you expect to be exactly identical (initializing a BertForSequenceClassification model from a BertForSequenceClassification model).\n",
      "Some weights of BertForTokenClassification were not initialized from the model checkpoint at bert-base-uncased and are newly initialized: ['classifier.weight', 'classifier.bias']\n",
      "You should probably TRAIN this model on a down-stream task to be able to use it for predictions and inference.\n"
     ]
    }
   ],
   "source": [
    "import torch\n",
    "from transformers import BertTokenizer, BertForTokenClassification\n",
    "\n",
    "\n",
    "# Create a mapping of characters to labels\n",
    "label_map = {char: i for i, char in enumerate(characters)}\n",
    "\n",
    "# Tokenizer and model\n",
    "tokenizer = BertTokenizer.from_pretrained('bert-base-uncased')\n",
    "model = BertForTokenClassification.from_pretrained('bert-base-uncased', num_labels=len(characters))"
   ]
  },
  {
   "cell_type": "code",
   "execution_count": 36,
   "metadata": {},
   "outputs": [
    {
     "name": "stdout",
     "output_type": "stream",
     "text": [
      "Cuda=True\n"
     ]
    },
    {
     "name": "stderr",
     "output_type": "stream",
     "text": [
      "Epoch 1: 100%|██████████| 1488/1488 [31:45<00:00,  1.28s/it]\n"
     ]
    },
    {
     "name": "stdout",
     "output_type": "stream",
     "text": [
      "Epoch 1 - Loss: 0.04302178915461428\n"
     ]
    },
    {
     "name": "stderr",
     "output_type": "stream",
     "text": [
      "Epoch 2: 100%|██████████| 1488/1488 [31:52<00:00,  1.29s/it]\n"
     ]
    },
    {
     "name": "stdout",
     "output_type": "stream",
     "text": [
      "Epoch 2 - Loss: 0.005218633826726908\n"
     ]
    },
    {
     "name": "stderr",
     "output_type": "stream",
     "text": [
      "Epoch 3: 100%|██████████| 1488/1488 [31:57<00:00,  1.29s/it]"
     ]
    },
    {
     "name": "stdout",
     "output_type": "stream",
     "text": [
      "Epoch 3 - Loss: 0.004035595181331671\n",
      "Training finished!\n"
     ]
    },
    {
     "name": "stderr",
     "output_type": "stream",
     "text": [
      "\n"
     ]
    }
   ],
   "source": [
    "\n",
    "from torch.utils.data import DataLoader, Dataset\n",
    "from tqdm import tqdm\n",
    "from torch.nn.utils.rnn import pad_sequence\n",
    "\n",
    "# Custom Dataset for training\n",
    "class NERDataset(Dataset):\n",
    "\tdef __init__(self, sentences, labels, tokenizer):\n",
    "\t\tself.sentences = sentences\n",
    "\t\tself.labels = labels\n",
    "\t\tself.tokenizer = tokenizer\n",
    "\n",
    "\tdef __len__(self):\n",
    "\t\treturn len(self.sentences)\n",
    "\n",
    "\tdef __getitem__(self, idx):\n",
    "\t\tsentence = self.sentences[idx]\n",
    "\t\tlabel = self.labels[idx]\n",
    "\n",
    "\t\tinputs = self.tokenizer.encode_plus(\n",
    "\t\t\tsentence,\n",
    "\t\t\tadd_special_tokens=True,\n",
    "\t\t\treturn_tensors=\"pt\",\n",
    "\t\t\tmax_length=128,\n",
    "\t\t\ttruncation=True,\n",
    "\t\t\tpadding='max_length',\n",
    "\t\t)\n",
    "\t\treturn {\n",
    "\t\t\t'input_ids': inputs['input_ids'].squeeze(),\n",
    "\t\t\t'attention_mask': inputs['attention_mask'].squeeze(),\n",
    "\t\t\t'labels': torch.tensor(label, dtype=torch.long)\n",
    "\t\t}\n",
    "\n",
    "# Prepare data\n",
    "labels = [[1 if char in sentence else 0 for char in characters] for sentence in sentences]\n",
    "\n",
    "# Pad sequences in batches\n",
    "def collate_fn(batch):\n",
    "\tinput_ids = pad_sequence([item['input_ids'] for item in batch], batch_first=True)\n",
    "\tattention_mask = pad_sequence([item['attention_mask'] for item in batch], batch_first=True)\n",
    "\tlabels = torch.stack([item['labels'] for item in batch])\n",
    "\n",
    "\treturn {\n",
    "\t\t'input_ids': input_ids,\n",
    "\t\t'attention_mask': attention_mask,\n",
    "\t\t'labels': labels\n",
    "\t}\n",
    "\n",
    "dataset = NERDataset(sentences, labels, tokenizer)\n",
    "dataloader = DataLoader(dataset, batch_size=2, shuffle=True)\n",
    "# Fine-tuning\n",
    "optimizer = torch.optim.AdamW(model.parameters(), lr=2e-5)\n",
    "\n",
    "print(f\"Cuda={torch.cuda.is_available()}\")\n",
    "#device = (\"cuda\" if torch.cuda.is_available() else \"cpu\")\n",
    "device = torch.device(\"cpu\")\n",
    "model.to(device)\n",
    "\n",
    "for epoch in range(3):\n",
    "\tmodel.train()\n",
    "\ttotal_loss = 0\n",
    "\n",
    "\tfor batch in tqdm(dataloader, desc=f\"Epoch {epoch+1}\"):\n",
    "\t\tinput_ids = batch['input_ids'].to(device)\n",
    "\t\tattention_mask = batch['attention_mask'].to(device)\n",
    "\t\tlabels = batch['labels'].to(device)\n",
    "\n",
    "\t\toutputs = model(input_ids, attention_mask=attention_mask, labels=labels)\n",
    "\t\tloss = outputs.loss\n",
    "\t\tloss.backward()\n",
    "\n",
    "\t\toptimizer.step()\n",
    "\t\toptimizer.zero_grad()\n",
    "\n",
    "\t\ttotal_loss += loss.item()\n",
    "\n",
    "\tprint(f\"Epoch {epoch+1} - Loss: {total_loss / len(dataloader)}\")\n",
    "\n",
    "print(\"Training finished!\")"
   ]
  },
  {
   "cell_type": "code",
   "execution_count": 38,
   "metadata": {},
   "outputs": [],
   "source": [
    "model_path = 'models/chars.pth'  # Path where you want to save the model\n",
    "\n",
    "# Save the entire model including both model architecture and trained weights\n",
    "torch.save(model.state_dict(), model_path)"
   ]
  },
  {
   "cell_type": "code",
   "execution_count": 51,
   "metadata": {},
   "outputs": [
    {
     "name": "stderr",
     "output_type": "stream",
     "text": [
      "Some weights of the model checkpoint at bert-base-uncased were not used when initializing BertForSequenceClassification: ['cls.predictions.transform.dense.bias', 'cls.seq_relationship.weight', 'cls.predictions.bias', 'cls.predictions.transform.dense.weight', 'cls.predictions.transform.LayerNorm.bias', 'cls.predictions.decoder.weight', 'cls.predictions.transform.LayerNorm.weight', 'cls.seq_relationship.bias']\n",
      "- This IS expected if you are initializing BertForSequenceClassification from the checkpoint of a model trained on another task or with another architecture (e.g. initializing a BertForSequenceClassification model from a BertForPreTraining model).\n",
      "- This IS NOT expected if you are initializing BertForSequenceClassification from the checkpoint of a model that you expect to be exactly identical (initializing a BertForSequenceClassification model from a BertForSequenceClassification model).\n",
      "Some weights of BertForSequenceClassification were not initialized from the model checkpoint at bert-base-uncased and are newly initialized: ['classifier.weight', 'classifier.bias']\n",
      "You should probably TRAIN this model on a down-stream task to be able to use it for predictions and inference.\n"
     ]
    },
    {
     "data": {
      "text/plain": [
       "BertForSequenceClassification(\n",
       "  (bert): BertModel(\n",
       "    (embeddings): BertEmbeddings(\n",
       "      (word_embeddings): Embedding(30522, 768, padding_idx=0)\n",
       "      (position_embeddings): Embedding(512, 768)\n",
       "      (token_type_embeddings): Embedding(2, 768)\n",
       "      (LayerNorm): LayerNorm((768,), eps=1e-12, elementwise_affine=True)\n",
       "      (dropout): Dropout(p=0.1, inplace=False)\n",
       "    )\n",
       "    (encoder): BertEncoder(\n",
       "      (layer): ModuleList(\n",
       "        (0-11): 12 x BertLayer(\n",
       "          (attention): BertAttention(\n",
       "            (self): BertSelfAttention(\n",
       "              (query): Linear(in_features=768, out_features=768, bias=True)\n",
       "              (key): Linear(in_features=768, out_features=768, bias=True)\n",
       "              (value): Linear(in_features=768, out_features=768, bias=True)\n",
       "              (dropout): Dropout(p=0.1, inplace=False)\n",
       "            )\n",
       "            (output): BertSelfOutput(\n",
       "              (dense): Linear(in_features=768, out_features=768, bias=True)\n",
       "              (LayerNorm): LayerNorm((768,), eps=1e-12, elementwise_affine=True)\n",
       "              (dropout): Dropout(p=0.1, inplace=False)\n",
       "            )\n",
       "          )\n",
       "          (intermediate): BertIntermediate(\n",
       "            (dense): Linear(in_features=768, out_features=3072, bias=True)\n",
       "            (intermediate_act_fn): GELUActivation()\n",
       "          )\n",
       "          (output): BertOutput(\n",
       "            (dense): Linear(in_features=3072, out_features=768, bias=True)\n",
       "            (LayerNorm): LayerNorm((768,), eps=1e-12, elementwise_affine=True)\n",
       "            (dropout): Dropout(p=0.1, inplace=False)\n",
       "          )\n",
       "        )\n",
       "      )\n",
       "    )\n",
       "    (pooler): BertPooler(\n",
       "      (dense): Linear(in_features=768, out_features=768, bias=True)\n",
       "      (activation): Tanh()\n",
       "    )\n",
       "  )\n",
       "  (dropout): Dropout(p=0.1, inplace=False)\n",
       "  (classifier): Linear(in_features=768, out_features=128, bias=True)\n",
       ")"
      ]
     },
     "execution_count": 51,
     "metadata": {},
     "output_type": "execute_result"
    }
   ],
   "source": [
    "import torch\n",
    "from transformers import BertTokenizer, BertForSequenceClassification\n",
    "\n",
    "# Load the pre-trained BERT model architecture\n",
    "trained_model = BertForSequenceClassification.from_pretrained('bert-base-uncased', num_labels=len(characters))\n",
    "trained_model.load_state_dict(torch.load(model_path), strict=False)  # Load the trained weights\n",
    "trained_model.eval()  # Set the model to evaluation mode"
   ]
  },
  {
   "cell_type": "code",
   "execution_count": 53,
   "metadata": {},
   "outputs": [
    {
     "name": "stdout",
     "output_type": "stream",
     "text": [
      "Predicted Class: Caliondo\n"
     ]
    }
   ],
   "source": [
    "text = sentences[0]\n",
    "inputs = tokenizer.encode_plus(\n",
    "\ttext,\n",
    "\tadd_special_tokens=True,\n",
    "\treturn_tensors=\"pt\",\n",
    "\tmax_length=128,\n",
    "\ttruncation=True,\n",
    "\tpadding='max_length'\n",
    ")\n",
    "with torch.no_grad():\n",
    "\tinput_ids = inputs['input_ids']\n",
    "\tattention_mask = inputs['attention_mask']\n",
    "\toutputs = trained_model(input_ids, attention_mask=attention_mask)\n",
    "\n",
    "predicted_class = torch.argmax(outputs.logits, dim=1)\n",
    "print(\"Predicted Class:\", characters[predicted_class.item()])"
   ]
  }
 ],
 "metadata": {
  "kernelspec": {
   "display_name": "Python 3",
   "language": "python",
   "name": "python3"
  },
  "language_info": {
   "codemirror_mode": {
    "name": "ipython",
    "version": 3
   },
   "file_extension": ".py",
   "mimetype": "text/x-python",
   "name": "python",
   "nbconvert_exporter": "python",
   "pygments_lexer": "ipython3",
   "version": "3.10.12"
  },
  "orig_nbformat": 4
 },
 "nbformat": 4,
 "nbformat_minor": 2
}
