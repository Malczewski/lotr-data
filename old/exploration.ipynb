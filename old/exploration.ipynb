{
 "cells": [
  {
   "cell_type": "code",
   "execution_count": 1,
   "metadata": {},
   "outputs": [],
   "source": [
    "import re\n",
    "\n",
    "class RowClassifier:\n",
    "\tdef __init__(self):\n",
    "\t\tself.classifications = [\n",
    "\t\t\t{\"class\": \"BOOK\", \"currRegex\": r\" {33}Book (\\w+)\", \"prevRegex\": r\"\"},\n",
    "\t\t\t{\"class\": \"CHAPTER\", \"currRegex\": r\" {27}_Chapter (\\d+)_\"},\n",
    "\t\t\t{\"class\": \"CHAPTER_NAME\", \"currRegex\": r\" {12}(.+)\", \"prevRegex\": r\" {27}_Chapter (\\d+)_\"},\n",
    "\t\t\t{\"class\": \"OTHER\", \"currRegex\": r\" {10,12}(.*)\", \"prevRegex\": r\"(| {10,12}.*)\"},\n",
    "\t\t\t{\"class\": \"TEXT\", \"currRegex\": r\" {5}(.*)\", \"prevRegex\": r\"(| {5}.*)\"},\n",
    "\t\t]\n",
    "\t\n",
    "\tdef classify_row(self, prev_row, curr_row):\n",
    "\t\tfor rule in self.classifications:\n",
    "\t\t\tif ('prevRegex' not in rule or re.match(rule[\"prevRegex\"], prev_row)) and re.match(rule[\"currRegex\"], curr_row):\n",
    "\t\t\t\treturn rule[\"class\"], re.search(rule[\"currRegex\"], curr_row).group(1).strip()\n",
    "\t\treturn \"UNKNOWN\", curr_row.strip()\n",
    "\n",
    "def read_book(input):\n",
    "\tclassifier = RowClassifier()\n",
    "\n",
    "\twith open(input, \"r\") as file:\n",
    "\t\tlines = file.readlines()\n",
    "\n",
    "\tclassifications = ['TITLE']\n",
    "\tvalues = [lines[0].strip()]\n",
    "\tprev_row = lines[0].strip() if lines else None\n",
    "\t\n",
    "\tfor curr_row in lines[1:]:\n",
    "\t\tif not curr_row.strip():\n",
    "\t\t\tprev_row = curr_row\n",
    "\t\t\tcontinue\n",
    "\t\tclassification, value = classifier.classify_row(prev_row, curr_row)\n",
    "\t\tif classifications[-1] == classification == 'OTHER':\n",
    "\t\t\tvalues[-1] += ' ' + value\n",
    "\t\telse:\n",
    "\t\t\tclassifications.append(classification)\n",
    "\t\t\tvalues.append(value)\n",
    "\t\tprev_row = curr_row\n",
    "\n",
    "\treturn classifications, values\n"
   ]
  },
  {
   "cell_type": "code",
   "execution_count": 2,
   "metadata": {},
   "outputs": [],
   "source": [
    "def write_to_file(output, classifications, values):\n",
    "\twith open(output, \"w\") as output_file:\n",
    "\t\tfor i, classification in enumerate(classifications):\n",
    "\t\t\tvalue = values[i]\n",
    "\t\t\toutput_file.write(f\"{classification}: {value}\\n\")"
   ]
  },
  {
   "cell_type": "code",
   "execution_count": 3,
   "metadata": {},
   "outputs": [],
   "source": [
    "def process_book(input):\n",
    "\tclassifications, values = read_book(input)\n",
    "\n",
    "\ttitle = ''\n",
    "\tbook = ''\n",
    "\tchapter = -1\n",
    "\tchapter_name = ''\n",
    "\n",
    "\trows = []\n",
    "\n",
    "\tfor i, clazz in enumerate(classifications):\n",
    "\t\tif clazz == 'TITLE':\n",
    "\t\t\ttitle = values[i]\n",
    "\t\telif clazz == 'BOOK':\n",
    "\t\t\tbook = values[i]\n",
    "\t\telif clazz == 'CHAPTER':\n",
    "\t\t\tchapter = values[i]\n",
    "\t\telif clazz == 'CHAPTER_NAME':\n",
    "\t\t\tchapter_name = values[i]\n",
    "\t\telif clazz == 'TEXT':\n",
    "\t\t\trows.append({\n",
    "\t\t\t\t\"title\": title, \n",
    "\t\t\t\t\"book\": book, \n",
    "\t\t\t\t\"chapter\": chapter, \n",
    "\t\t\t\t\"chapter_name\": chapter_name, \n",
    "\t\t\t\t\"text\": values[i], \n",
    "\t\t\t\t\"text_other\": ''\n",
    "\t\t\t})\n",
    "\t\telif clazz == 'OTHER':\n",
    "\t\t\trows[-1][\"text_other\"] += values[i]\n",
    "\n",
    "\treturn rows\n"
   ]
  },
  {
   "cell_type": "code",
   "execution_count": 4,
   "metadata": {},
   "outputs": [],
   "source": [
    "import csv\n",
    "def write_verbatims(output, verbatims):\n",
    "\twith open(output, mode=\"w\", newline=\"\") as file:\n",
    "\t\tfieldnames = verbatims[0].keys()\n",
    "\t\twriter = csv.DictWriter(file, fieldnames=fieldnames)\n",
    "\n",
    "\t\twriter.writeheader()\n",
    "\t\tfor row in verbatims:\n",
    "\t\t\twriter.writerow(row)\n",
    "\n",
    "def write_text(output, verbatims):\n",
    "\twith open(output, 'w') as file:\n",
    "\t\tfile.writelines(\"\\n\".join([r[\"text\"] for r in verbatims]))"
   ]
  },
  {
   "cell_type": "code",
   "execution_count": 5,
   "metadata": {},
   "outputs": [],
   "source": [
    "from enrichments import characters_enrichment, location_enrichment, artifact_enrichment\n",
    "\n",
    "enrichments = [\n",
    "\tcharacters_enrichment, \n",
    "\tlocation_enrichment,\n",
    "\tartifact_enrichment,\n",
    "]\n",
    "def enrich_verbatims(verbatims):\n",
    "\tfor row in verbatims:\n",
    "\t\tfor enrich in enrichments:\n",
    "\t\t\tenrich(row)\n",
    "\treturn verbatims"
   ]
  },
  {
   "cell_type": "code",
   "execution_count": 6,
   "metadata": {},
   "outputs": [],
   "source": [
    "rows = process_book('data/01.txt')\n",
    "rows = enrich_verbatims(rows)\n",
    "write_verbatims('output/1.csv', rows)"
   ]
  },
  {
   "cell_type": "code",
   "execution_count": 7,
   "metadata": {},
   "outputs": [],
   "source": [
    "rows = process_book('data/02.txt')\n",
    "rows = enrich_verbatims(rows)\n",
    "write_verbatims('output/2.csv', rows)"
   ]
  },
  {
   "cell_type": "code",
   "execution_count": 8,
   "metadata": {},
   "outputs": [],
   "source": [
    "rows = process_book('data/03.txt')\n",
    "rows = enrich_verbatims(rows)\n",
    "write_verbatims('output/3.csv', rows)"
   ]
  },
  {
   "cell_type": "code",
   "execution_count": null,
   "metadata": {},
   "outputs": [],
   "source": []
  }
 ],
 "metadata": {
  "kernelspec": {
   "display_name": "Python 3",
   "language": "python",
   "name": "python3"
  },
  "language_info": {
   "codemirror_mode": {
    "name": "ipython",
    "version": 3
   },
   "file_extension": ".py",
   "mimetype": "text/x-python",
   "name": "python",
   "nbconvert_exporter": "python",
   "pygments_lexer": "ipython3",
   "version": "3.10.12"
  },
  "orig_nbformat": 4
 },
 "nbformat": 4,
 "nbformat_minor": 2
}
